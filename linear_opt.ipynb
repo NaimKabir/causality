{
 "cells": [
  {
   "cell_type": "markdown",
   "metadata": {},
   "source": [
    "### Linear optimization\n",
    "\n",
    "First we'll get all the probabilities we need: p(x,y|z) for each x,y,z combination:"
   ]
  },
  {
   "cell_type": "code",
   "execution_count": 11,
   "metadata": {},
   "outputs": [],
   "source": [
    "states = list(product(['treatment','control'],[0,1], [0,1]))\n",
    "\n",
    "get_conditional_probability = lambda assignment, took, outcome: \\\n",
    "                ( \n",
    "                    (df[df.assignment == assignment].took_treatment == took)\n",
    "                    & \n",
    "                    (df[df.assignment == assignment].good_outcome == outcome)  \n",
    "                ).mean()\n",
    "\n",
    "# this terrible list comprehension\n",
    "# collects p(x,y|z) for all 'states'\n",
    "p_states = {\n",
    "            f\"{assignment}/\"\n",
    "            + f\"{'treated' if took == 1 else 'untreated'}/\"\n",
    "            + f\"{'good' if outcome ==1 else 'bad'}\" : \n",
    "                get_conditional_probability(assignment, took, outcome)\n",
    "                for assignment, took, outcome in states\n",
    "            }"
   ]
  },
  {
   "cell_type": "code",
   "execution_count": 12,
   "metadata": {},
   "outputs": [],
   "source": [
    "p_states = {'treatment/untreated/bad': 0.02,\n",
    " 'treatment/untreated/good': 0.67,\n",
    " 'treatment/treated/bad': 0.17,\n",
    " 'treatment/treated/good': 0.14,\n",
    " 'control/untreated/bad': 0.32,\n",
    " 'control/untreated/good': 0.04,\n",
    " 'control/treated/bad': 0.32,\n",
    " 'control/treated/good': 0.32}"
   ]
  },
  {
   "cell_type": "markdown",
   "metadata": {},
   "source": [
    "Now we can frame our linear programming problem.\n",
    "\n",
    "We're maximizing our expression of an ATE given the constraints at hand."
   ]
  },
  {
   "cell_type": "code",
   "execution_count": 13,
   "metadata": {},
   "outputs": [],
   "source": [
    "import pulp\n",
    "\n",
    "# first we set up 'problems', objects that\n",
    "# can take an objective like 'maximize' as well as constraints\n",
    "\n",
    "max_problem = pulp.LpProblem(\"max ATE\", pulp.LpMaximize)"
   ]
  },
  {
   "cell_type": "markdown",
   "metadata": {},
   "source": [
    "We can now specify variables, symbols that the linear program will know to vary in order to maximize or minimize our objective function. These variables are the distribution of **U**: the probabilities of belonging to one of the archetypal (Compliance, Response) partitions."
   ]
  },
  {
   "cell_type": "code",
   "execution_count": 14,
   "metadata": {},
   "outputs": [],
   "source": [
    "# Linear optimization ranges over possible variables\n",
    "# to find those hidden variables that maximize\n",
    "# or minimize our objective.\n",
    "\n",
    "# Our variables 'q' are the the probability of \n",
    "# being in one of the partitions\n",
    "\n",
    "partition_names = ['/'.join([compliance, response])\n",
    "                       for compliance, response in partition_types]\n",
    "\n",
    "q = {partition: pulp.LpVariable(partition, lowBound=0) for partition in partition_names}"
   ]
  },
  {
   "cell_type": "markdown",
   "metadata": {},
   "source": [
    "We can add constraints on these variables as well, by simply adding them to the problem we've framed!"
   ]
  },
  {
   "cell_type": "code",
   "execution_count": 15,
   "metadata": {},
   "outputs": [],
   "source": [
    "# since our vars are probabilities \n",
    "# the sum of them should all be under 1\n",
    "\n",
    "max_problem += sum([v for k,v in q.items()]) == 1"
   ]
  },
  {
   "cell_type": "code",
   "execution_count": 16,
   "metadata": {},
   "outputs": [],
   "source": [
    "# Let's set the relationship between the distribution of U\n",
    "# and the probabilities we observe. The variable name\n",
    "# scheme is p_Z_X_Y\n",
    "\n",
    "\n",
    "p_treatment_untreated_bad = q['never_taker/never_better'] \\\n",
    "                            + q['defier/never_better'] \\\n",
    "                            + q['never_taker/helped'] \\\n",
    "                            + q['defier/helped'] \n",
    "\n",
    "p_treatment_untreated_good = q['never_taker/always_better'] \\\n",
    "                             + q['defier/always_better'] \\\n",
    "                             + q['never_taker/hurt'] \\\n",
    "                             + q['defier/hurt']\n",
    "\n",
    "p_treatment_treated_bad = q['always_taker/never_better'] \\\n",
    "                          + q['complier/never_better'] \\\n",
    "                          + q['always_taker/hurt'] \\\n",
    "                          + q['complier/hurt']\n",
    "\n",
    "p_treatment_treated_good = q['always_taker/always_better'] \\\n",
    "                           + q['complier/always_better'] \\\n",
    "                           + q['always_taker/helped'] \\\n",
    "                           + q['complier/helped']\n",
    "\n",
    "p_control_untreated_bad = q['never_taker/never_better'] \\\n",
    "                          + q['complier/never_better'] \\\n",
    "                          + q['never_taker/helped'] \\\n",
    "                          + q['complier/helped']\n",
    "\n",
    "p_control_untreated_good = q['never_taker/always_better'] \\\n",
    "                           + q['complier/never_better'] \\\n",
    "                           + q['never_taker/hurt'] \\\n",
    "                           + q['complier/hurt']\n",
    "\n",
    "p_control_treated_bad = q['always_taker/never_better'] \\\n",
    "                        + q['defier/never_better'] \\\n",
    "                        + q['always_taker/hurt'] \\\n",
    "                        + q['defier/hurt']\n",
    "\n",
    "p_control_treated_good = q['always_taker/always_better'] \\\n",
    "                         + q['defier/always_better'] \\\n",
    "                         + q['always_taker/helped'] \\\n",
    "                         + q['defier/helped']"
   ]
  },
  {
   "cell_type": "code",
   "execution_count": 17,
   "metadata": {},
   "outputs": [],
   "source": [
    "# I now apply these linear relationships between U\n",
    "# and P(X,Y|Z) as constraints on the LP problem.\n",
    "\n",
    "# Though there's a compact and elegant linear algebraic way\n",
    "# of doing this, I'm being painfully explicit here because\n",
    "# it's easier to understand (for me at least)\n",
    "\n",
    "max_problem += p_treatment_untreated_bad == p_states['treatment/untreated/bad']\n",
    "max_problem += p_treatment_treated_good == p_states['treatment/treated/good']\n",
    "max_problem += p_treatment_treated_bad == p_states['treatment/treated/bad']\n",
    "\n",
    "max_problem += p_control_untreated_bad == p_states['control/untreated/bad']\n",
    "max_problem += p_control_treated_good == p_states['control/treated/good']\n",
    "max_problem += p_control_treated_bad == p_states['control/treated/bad']\n",
    "\n",
    "\n",
    "# I leave some constraints out because it *over*constrains \n",
    "# the problem and makes it impossible to solve\n",
    "# It turns out that the other constraints actually imply \n",
    "# these two since they are complimentary probabilities, \n",
    "# so we can just leave them commented out\n",
    "\n",
    "#max_problem += p_control_untreated_good == p_states['control/untreated/good']\n",
    "#max_problem += p_treatment_untreated_good == p_states['treatment/untreated/good']\n"
   ]
  },
  {
   "cell_type": "markdown",
   "metadata": {},
   "source": [
    "With constraints set, all that remains to do set the objective function, our ATE.\n",
    "\n",
    "$$ATE = P(helped) - P(hurt)$$\n",
    "\n",
    "where $P(helped)$ is the probability of being in a partition with a 'helped' response type and $P(hurt)$ is the probability of being in a partition with a 'hurt' response type.\n",
    "\n",
    "Then we can just hit `solve()`."
   ]
  },
  {
   "cell_type": "code",
   "execution_count": 18,
   "metadata": {},
   "outputs": [],
   "source": [
    "max_problem += q['complier/helped'] \\\n",
    "               + q['defier/helped'] \\\n",
    "               + q['always_taker/helped'] \\\n",
    "               + q['never_taker/helped'] \\\n",
    "               - q['complier/hurt'] \\\n",
    "               - q['defier/hurt'] \\\n",
    "               - q['always_taker/hurt'] \\\n",
    "               - q['never_taker/hurt']"
   ]
  },
  {
   "cell_type": "code",
   "execution_count": 19,
   "metadata": {},
   "outputs": [
    {
     "data": {
      "text/plain": [
       "'Optimal'"
      ]
     },
     "execution_count": 19,
     "metadata": {},
     "output_type": "execute_result"
    }
   ],
   "source": [
    "pulp.LpStatus[max_problem.solve()]"
   ]
  },
  {
   "cell_type": "markdown",
   "metadata": {},
   "source": [
    "The problem's been optimized, and now we can see what U looks like in the best case scenario."
   ]
  },
  {
   "cell_type": "code",
   "execution_count": 20,
   "metadata": {},
   "outputs": [
    {
     "data": {
      "text/html": [
       "<div>\n",
       "<style scoped>\n",
       "    .dataframe tbody tr th:only-of-type {\n",
       "        vertical-align: middle;\n",
       "    }\n",
       "\n",
       "    .dataframe tbody tr th {\n",
       "        vertical-align: top;\n",
       "    }\n",
       "\n",
       "    .dataframe thead th {\n",
       "        text-align: right;\n",
       "    }\n",
       "</style>\n",
       "<table border=\"1\" class=\"dataframe\">\n",
       "  <thead>\n",
       "    <tr style=\"text-align: right;\">\n",
       "      <th></th>\n",
       "      <th>p(U=u)</th>\n",
       "    </tr>\n",
       "  </thead>\n",
       "  <tbody>\n",
       "    <tr>\n",
       "      <th>always_taker/always_better</th>\n",
       "      <td>0.00</td>\n",
       "    </tr>\n",
       "    <tr>\n",
       "      <th>always_taker/helped</th>\n",
       "      <td>0.00</td>\n",
       "    </tr>\n",
       "    <tr>\n",
       "      <th>always_taker/hurt</th>\n",
       "      <td>0.00</td>\n",
       "    </tr>\n",
       "    <tr>\n",
       "      <th>always_taker/never_better</th>\n",
       "      <td>0.01</td>\n",
       "    </tr>\n",
       "    <tr>\n",
       "      <th>complier/always_better</th>\n",
       "      <td>0.00</td>\n",
       "    </tr>\n",
       "    <tr>\n",
       "      <th>complier/helped</th>\n",
       "      <td>0.14</td>\n",
       "    </tr>\n",
       "    <tr>\n",
       "      <th>complier/hurt</th>\n",
       "      <td>0.00</td>\n",
       "    </tr>\n",
       "    <tr>\n",
       "      <th>complier/never_better</th>\n",
       "      <td>0.16</td>\n",
       "    </tr>\n",
       "    <tr>\n",
       "      <th>defier/always_better</th>\n",
       "      <td>0.32</td>\n",
       "    </tr>\n",
       "    <tr>\n",
       "      <th>defier/helped</th>\n",
       "      <td>0.00</td>\n",
       "    </tr>\n",
       "    <tr>\n",
       "      <th>defier/hurt</th>\n",
       "      <td>0.31</td>\n",
       "    </tr>\n",
       "    <tr>\n",
       "      <th>defier/never_better</th>\n",
       "      <td>0.00</td>\n",
       "    </tr>\n",
       "    <tr>\n",
       "      <th>never_taker/always_better</th>\n",
       "      <td>0.04</td>\n",
       "    </tr>\n",
       "    <tr>\n",
       "      <th>never_taker/helped</th>\n",
       "      <td>0.02</td>\n",
       "    </tr>\n",
       "    <tr>\n",
       "      <th>never_taker/hurt</th>\n",
       "      <td>0.00</td>\n",
       "    </tr>\n",
       "    <tr>\n",
       "      <th>never_taker/never_better</th>\n",
       "      <td>0.00</td>\n",
       "    </tr>\n",
       "  </tbody>\n",
       "</table>\n",
       "</div>"
      ],
      "text/plain": [
       "                            p(U=u)\n",
       "always_taker/always_better    0.00\n",
       "always_taker/helped           0.00\n",
       "always_taker/hurt             0.00\n",
       "always_taker/never_better     0.01\n",
       "complier/always_better        0.00\n",
       "complier/helped               0.14\n",
       "complier/hurt                 0.00\n",
       "complier/never_better         0.16\n",
       "defier/always_better          0.32\n",
       "defier/helped                 0.00\n",
       "defier/hurt                   0.31\n",
       "defier/never_better           0.00\n",
       "never_taker/always_better     0.04\n",
       "never_taker/helped            0.02\n",
       "never_taker/hurt              0.00\n",
       "never_taker/never_better      0.00"
      ]
     },
     "execution_count": 20,
     "metadata": {},
     "output_type": "execute_result"
    }
   ],
   "source": [
    "q_max = {partition:pulp.value(partition_p) \n",
    "         for partition, partition_p in q.items()}\n",
    "\n",
    "# display\n",
    "\n",
    "pd.DataFrame(q_max, index=['p(U=u)']).T"
   ]
  },
  {
   "cell_type": "markdown",
   "metadata": {},
   "source": [
    "Given these we can calculate our best-case ATE."
   ]
  },
  {
   "cell_type": "code",
   "execution_count": 21,
   "metadata": {},
   "outputs": [
    {
     "name": "stdout",
     "output_type": "stream",
     "text": [
      "Best-Case ATE: -0.1500\n"
     ]
    }
   ],
   "source": [
    "ate = lambda q: q['complier/helped'] \\\n",
    "               + q['defier/helped'] \\\n",
    "               + q['always_taker/helped'] \\\n",
    "               + q['never_taker/helped'] \\\n",
    "               - q['complier/hurt'] \\\n",
    "               - q['defier/hurt'] \\\n",
    "               - q['always_taker/hurt'] \\\n",
    "               - q['never_taker/hurt']\n",
    "\n",
    "best_case_ate = ate(q_max)\n",
    "\n",
    "# display\n",
    "print(\"Best-Case ATE: %6.4f\" % best_case_ate)"
   ]
  }
 ],
 "metadata": {
  "kernelspec": {
   "display_name": "Python 3",
   "language": "python",
   "name": "python3"
  },
  "language_info": {
   "codemirror_mode": {
    "name": "ipython",
    "version": 3
   },
   "file_extension": ".py",
   "mimetype": "text/x-python",
   "name": "python",
   "nbconvert_exporter": "python",
   "pygments_lexer": "ipython3",
   "version": "3.7.4"
  }
 },
 "nbformat": 4,
 "nbformat_minor": 4
}
