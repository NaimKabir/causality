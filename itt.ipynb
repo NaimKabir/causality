{
 "cells": [
  {
   "cell_type": "markdown",
   "metadata": {},
   "source": [
    "### Intent-to-treat average treatment effect\n",
    "\n",
    "All we need to do is sum up all 'good' from the Treatment column, and subtract by all 'good' from the Control column.\n"
   ]
  },
  {
   "cell_type": "code",
   "execution_count": 10,
   "metadata": {},
   "outputs": [
    {
     "name": "stdout",
     "output_type": "stream",
     "text": [
      "ATE: 0.4512\n"
     ]
    }
   ],
   "source": [
    "p_good_treated = df[\n",
    "    df.assignment == \"treatment\"\n",
    "].good_outcome.mean()\n",
    "\n",
    "p_good_control = df[\n",
    "    df.assignment == \"control\"\n",
    "].good_outcome.mean()\n",
    "\n",
    "itt_ate = p_good_treated - p_good_control\n",
    "\n",
    "# display\n",
    "print(\"ATE: %6.4f\" % itt_ate)"
   ]
  }
 ],
 "metadata": {
  "kernelspec": {
   "display_name": "Python 3",
   "language": "python",
   "name": "python3"
  },
  "language_info": {
   "codemirror_mode": {
    "name": "ipython",
    "version": 3
   },
   "file_extension": ".py",
   "mimetype": "text/x-python",
   "name": "python",
   "nbconvert_exporter": "python",
   "pygments_lexer": "ipython3",
   "version": "3.6.5"
  }
 },
 "nbformat": 4,
 "nbformat_minor": 2
}
