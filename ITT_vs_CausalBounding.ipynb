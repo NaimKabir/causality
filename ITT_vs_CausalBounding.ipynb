{
 "cells": [
  {
   "cell_type": "code",
   "execution_count": 1,
   "metadata": {},
   "outputs": [],
   "source": [
    "from itertools import product\n",
    "import numpy as np\n",
    "from pulp import LpMinimize, LpMaximize, LpProblem\n",
    "from funcs import make_partition_probabilities, simulate_participants, get_state_probabilities, \\\n",
    "                  set_up_variables, solve, itt_ate, q_ate, true_ate"
   ]
  },
  {
   "cell_type": "code",
   "execution_count": 2,
   "metadata": {},
   "outputs": [],
   "source": [
    "compliance_partitions = ['always_taker', 'complier', 'defier', 'never_taker']\n",
    "response_partitions = ['always_better', 'helped', 'hurt', 'never_better']\n",
    "partition_types = np.array(list(product(compliance_partitions, response_partitions)))"
   ]
  },
  {
   "cell_type": "code",
   "execution_count": 3,
   "metadata": {},
   "outputs": [
    {
     "data": {
      "text/plain": [
       "array([['always_taker', 'always_better'],\n",
       "       ['always_taker', 'helped'],\n",
       "       ['always_taker', 'hurt'],\n",
       "       ['always_taker', 'never_better'],\n",
       "       ['complier', 'always_better'],\n",
       "       ['complier', 'helped'],\n",
       "       ['complier', 'hurt'],\n",
       "       ['complier', 'never_better'],\n",
       "       ['defier', 'always_better'],\n",
       "       ['defier', 'helped'],\n",
       "       ['defier', 'hurt'],\n",
       "       ['defier', 'never_better'],\n",
       "       ['never_taker', 'always_better'],\n",
       "       ['never_taker', 'helped'],\n",
       "       ['never_taker', 'hurt'],\n",
       "       ['never_taker', 'never_better']], dtype='<U13')"
      ]
     },
     "execution_count": 3,
     "metadata": {},
     "output_type": "execute_result"
    }
   ],
   "source": [
    "partition_types"
   ]
  },
  {
   "cell_type": "code",
   "execution_count": 22,
   "metadata": {},
   "outputs": [],
   "source": [
    "def experiment(distribution_floats, n_participants, partition_types):\n",
    "    partition_p = make_partition_probabilities(distribution_floats)\n",
    "    df = simulate_participants(partition_p, n_participants, partition_types)\n",
    "    \n",
    "    itt_effect = itt_ate(df)\n",
    "    \n",
    "    state_p = get_state_probabilities(df)\n",
    "    q = set_up_variables(partition_types)\n",
    "    minimize = LpProblem('min', LpMinimize)\n",
    "    maximize = LpProblem('max', LpMaximize)\n",
    "    \n",
    "    q_min = solve(minimize, q, state_p)\n",
    "    q_max = solve(maximize, q, state_p)\n",
    "    \n",
    "    lower_ate = q_ate(q_min)\n",
    "    upper_ate = q_ate(q_max)\n",
    "    \n",
    "    true = true_ate(df)\n",
    "    \n",
    "    return true, itt_effect, lower_ate, upper_ate"
   ]
  },
  {
   "cell_type": "code",
   "execution_count": 40,
   "metadata": {},
   "outputs": [],
   "source": [
    "distribution_magnitude = [0, 10, 0, 0, 0, 10, 0, 0, 0, 10, 0, 0, 0, 10, 0, 0]\n",
    "n_participants = 20000"
   ]
  },
  {
   "cell_type": "code",
   "execution_count": 41,
   "metadata": {},
   "outputs": [
    {
     "data": {
      "text/plain": [
       "(1.0, -0.0012999999999999678, 0.00065, 1.0)"
      ]
     },
     "execution_count": 41,
     "metadata": {},
     "output_type": "execute_result"
    }
   ],
   "source": [
    "experiment(distribution_magnitude, n_participants, partition_types)"
   ]
  },
  {
   "cell_type": "code",
   "execution_count": 44,
   "metadata": {},
   "outputs": [
    {
     "data": {
      "text/plain": [
       "(0.4234, -0.005900000000000016, -0.04305, 0.9522499999999999)"
      ]
     },
     "execution_count": 44,
     "metadata": {},
     "output_type": "execute_result"
    }
   ],
   "source": [
    "distribution_magnitude = [0, 0, 0, 0, 0, 10, 4, 0, 0, 10, 4, 0, 0, 10, 4, 0]\n",
    "experiment(distribution_magnitude, n_participants, partition_types)"
   ]
  },
  {
   "cell_type": "code",
   "execution_count": null,
   "metadata": {},
   "outputs": [],
   "source": [
    "distribution_magnitude = [0, 0, 0, 0, 0, 10, 4, 0, 0, 10, 4, 0, 0, 10, 4, 0]\n",
    "experiment(distribution_magnitude, n_participants, partition_types)"
   ]
  }
 ],
 "metadata": {
  "kernelspec": {
   "display_name": "Python 3",
   "language": "python",
   "name": "python3"
  },
  "language_info": {
   "codemirror_mode": {
    "name": "ipython",
    "version": 3
   },
   "file_extension": ".py",
   "mimetype": "text/x-python",
   "name": "python",
   "nbconvert_exporter": "python",
   "pygments_lexer": "ipython3",
   "version": "3.6.5"
  }
 },
 "nbformat": 4,
 "nbformat_minor": 2
}
