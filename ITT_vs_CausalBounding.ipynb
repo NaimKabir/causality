{
 "cells": [
  {
   "cell_type": "code",
   "execution_count": 1,
   "metadata": {},
   "outputs": [],
   "source": [
    "from itertools import product\n",
    "import numpy as np\n",
    "from pulp import LpMinimize, LpMaximize, LpProblem\n",
    "from funcs import make_partition_probabilities, simulate_participants, get_state_probabilities, \\\n",
    "                  set_up_variables, solve, itt_ate, q_ate, true_ate, symbolic_solve"
   ]
  },
  {
   "cell_type": "code",
   "execution_count": 2,
   "metadata": {},
   "outputs": [],
   "source": [
    "compliance_partitions = ['always_taker', 'complier', 'defier', 'never_taker']\n",
    "response_partitions = ['always_better', 'helped', 'hurt', 'never_better']\n",
    "partition_types = np.array(list(product(compliance_partitions, response_partitions)))"
   ]
  },
  {
   "cell_type": "code",
   "execution_count": 3,
   "metadata": {},
   "outputs": [
    {
     "data": {
      "text/plain": [
       "array([['always_taker', 'always_better'],\n",
       "       ['always_taker', 'helped'],\n",
       "       ['always_taker', 'hurt'],\n",
       "       ['always_taker', 'never_better'],\n",
       "       ['complier', 'always_better'],\n",
       "       ['complier', 'helped'],\n",
       "       ['complier', 'hurt'],\n",
       "       ['complier', 'never_better'],\n",
       "       ['defier', 'always_better'],\n",
       "       ['defier', 'helped'],\n",
       "       ['defier', 'hurt'],\n",
       "       ['defier', 'never_better'],\n",
       "       ['never_taker', 'always_better'],\n",
       "       ['never_taker', 'helped'],\n",
       "       ['never_taker', 'hurt'],\n",
       "       ['never_taker', 'never_better']], dtype='<U13')"
      ]
     },
     "execution_count": 3,
     "metadata": {},
     "output_type": "execute_result"
    }
   ],
   "source": [
    "partition_types"
   ]
  },
  {
   "cell_type": "code",
   "execution_count": 4,
   "metadata": {},
   "outputs": [],
   "source": [
    "def experiment(distribution_floats, n_participants, partition_types):\n",
    "    partition_p = make_partition_probabilities(distribution_floats)\n",
    "    df = simulate_participants(partition_p, n_participants, partition_types)\n",
    "    \n",
    "    itt_effect = itt_ate(df)\n",
    "    \n",
    "    state_p = get_state_probabilities(df)\n",
    "    q = set_up_variables(partition_types)\n",
    "    minimize = LpProblem('min', LpMinimize)\n",
    "    maximize = LpProblem('max', LpMaximize)\n",
    "    \n",
    "    try:\n",
    "        q_min = solve(minimize, q, state_p)\n",
    "        q_max = solve(maximize, q, state_p)\n",
    "    except ValueError:\n",
    "        q_min = {k:np.nan for k,v in q.items()}\n",
    "        q_max = {k:np.nan for k,v in q.items()}\n",
    "    \n",
    "    lower_ate = q_ate(q_min)\n",
    "    upper_ate = q_ate(q_max)\n",
    "    \n",
    "    symbolic_lower_ate, symbolic_upper_ate = symbolic_solve(state_p)\n",
    "    \n",
    "    true = true_ate(df)\n",
    "    \n",
    "    return true, itt_effect, lower_ate, upper_ate, symbolic_lower_ate, symbolic_upper_ate"
   ]
  },
  {
   "cell_type": "code",
   "execution_count": 53,
   "metadata": {},
   "outputs": [],
   "source": [
    "distribution_magnitude = [0, 0, 0, 0, 0, 10, 0, 0, 0, 10, 0, 0, 0, 30, 0, 0]\n",
    "n_participants = 20000"
   ]
  },
  {
   "cell_type": "code",
   "execution_count": 54,
   "metadata": {},
   "outputs": [
    {
     "data": {
      "text/plain": [
       "(1.0, 0.012399999999999994, 0.0124, 1.0, 0.012399999999999994, 1.0)"
      ]
     },
     "execution_count": 54,
     "metadata": {},
     "output_type": "execute_result"
    }
   ],
   "source": [
    "experiment(distribution_magnitude, n_participants, partition_types)"
   ]
  },
  {
   "cell_type": "code",
   "execution_count": 20,
   "metadata": {},
   "outputs": [
    {
     "data": {
      "text/plain": [
       "(0.4276, 0.0030000000000000027, nan, nan, -0.0827, 0.9048999999999999)"
      ]
     },
     "execution_count": 20,
     "metadata": {},
     "output_type": "execute_result"
    }
   ],
   "source": [
    "distribution_magnitude = [0, 0, 0, 0, 0, 10, 4, 0, 0, 10, 4, 0, 0, 10, 4, 0]\n",
    "experiment(distribution_magnitude, n_participants, partition_types)"
   ]
  },
  {
   "cell_type": "code",
   "execution_count": 19,
   "metadata": {},
   "outputs": [
    {
     "data": {
      "text/plain": [
       "(0.27825, -0.0012999999999999956, -0.2021, 0.7893, -0.2029, 0.7893)"
      ]
     },
     "execution_count": 19,
     "metadata": {},
     "output_type": "execute_result"
    }
   ],
   "source": [
    "distribution_magnitude = [0, 0, 0, 0, 2, 10, 4, 5, 2, 10, 4, 5, 2, 10, 4, 5]\n",
    "experiment(distribution_magnitude, n_participants, partition_types)"
   ]
  },
  {
   "cell_type": "code",
   "execution_count": 18,
   "metadata": {},
   "outputs": [
    {
     "data": {
      "text/plain": [
       "(0.38144999999999996,\n",
       " -0.005700000000000011,\n",
       " -0.1754,\n",
       " 0.8150999999999999,\n",
       " -0.1754,\n",
       " 0.8150999999999999)"
      ]
     },
     "execution_count": 18,
     "metadata": {},
     "output_type": "execute_result"
    }
   ],
   "source": [
    "distribution_magnitude = [0, 0, 0, 0, 2, 15, 4, 8, 2, 15, 4, 8, 2, 15, 4, 8]\n",
    "experiment(distribution_magnitude, n_participants, partition_types)"
   ]
  },
  {
   "cell_type": "code",
   "execution_count": 17,
   "metadata": {},
   "outputs": [
    {
     "data": {
      "text/plain": [
       "(0.36249999999999993, 0.003300000000000025, nan, nan, -0.1065, 0.7201)"
      ]
     },
     "execution_count": 17,
     "metadata": {},
     "output_type": "execute_result"
    }
   ],
   "source": [
    "distribution_magnitude = [0, 0, 0, 0, 10, 15, 4, 1, 2, 15, 4, 8, 2, 15, 4, 8]\n",
    "experiment(distribution_magnitude, n_participants, partition_types)"
   ]
  },
  {
   "cell_type": "code",
   "execution_count": 52,
   "metadata": {},
   "outputs": [
    {
     "data": {
      "text/plain": [
       "(0.61275,\n",
       " 0.12669999999999998,\n",
       " 0.07140000000000002,\n",
       " 0.8115,\n",
       " -0.018199999999999994,\n",
       " 0.8115)"
      ]
     },
     "execution_count": 52,
     "metadata": {},
     "output_type": "execute_result"
    }
   ],
   "source": [
    "distribution_magnitude = [0, 54, 4, 5, 10, 38, 4, 1, 2, 15, 4, 8, 2, 15, 4, 8]\n",
    "experiment(distribution_magnitude, n_participants, partition_types)"
   ]
  },
  {
   "cell_type": "code",
   "execution_count": 32,
   "metadata": {},
   "outputs": [],
   "source": [
    "state_p = {\n",
    "    'control/untreated/bad': 0.32,\n",
    "    'control/treated/bad': 0.32,\n",
    "    'control/untreated/good': 0.04,\n",
    "    'control/treated/good': 0.32 ,\n",
    "    'treatment/untreated/bad': 0.02,\n",
    "    'treatment/treated/bad': 0.17,\n",
    "    'treatment/untreated/good': 0.67,\n",
    "    'treatment/treated/good': 0.14\n",
    "}"
   ]
  },
  {
   "cell_type": "code",
   "execution_count": 33,
   "metadata": {},
   "outputs": [
    {
     "data": {
      "text/plain": [
       "(-0.35000000000000003, -0.15000000000000002)"
      ]
     },
     "execution_count": 33,
     "metadata": {},
     "output_type": "execute_result"
    }
   ],
   "source": [
    "symbolic_solve(state_p)"
   ]
  },
  {
   "cell_type": "markdown",
   "metadata": {},
   "source": [
    "$ATE = P(Got Better | Assigned to Treatment) - P(Got Better | Assigned to Control)$"
   ]
  },
  {
   "cell_type": "markdown",
   "metadata": {},
   "source": [
    "$P(Z, Y, X, U) = P(Y | X, U)⋅P(X | Z, U)⋅P(Z)⋅P(U)$"
   ]
  },
  {
   "cell_type": "markdown",
   "metadata": {},
   "source": [
    "$ATE = P(Y=Good| do(X=True)) - P(Y=Good| do(X=False))$"
   ]
  },
  {
   "cell_type": "markdown",
   "metadata": {},
   "source": [
    "$ATE = P(Y=Good|X=True) - P(Y=Good|X=False)$"
   ]
  },
  {
   "cell_type": "markdown",
   "metadata": {},
   "source": [
    "$$ATE = \\sum_{u{\\displaystyle \\in }U} P(Y=Good|X=True, U=u) \\cdot P(u) - P(Y=Good|X=False, U=u) \\cdot P(u)$$"
   ]
  },
  {
   "cell_type": "markdown",
   "metadata": {},
   "source": [
    "$$P(Z_{Treatment}, X_{True}, Y_{Good}) = P(U_{Always Taker, Helped}) + P(U_{Always Taker, AlwaysBetter}) \\\\ + P(U_{Complier, Helped}) + P(U_{Complier, Always Better})$$"
   ]
  },
  {
   "cell_type": "markdown",
   "metadata": {},
   "source": [
    "$$\\vec{u}$$"
   ]
  },
  {
   "cell_type": "markdown",
   "metadata": {},
   "source": [
    "$$ATE = P(U_{helped}) - P(U_{hurt})$$"
   ]
  },
  {
   "cell_type": "markdown",
   "metadata": {},
   "source": [
    "$ATE = P(Good Outcome | do(Use Even)) - P(Good Outcome| do(Not Use Even))$"
   ]
  },
  {
   "cell_type": "code",
   "execution_count": null,
   "metadata": {},
   "outputs": [],
   "source": []
  }
 ],
 "metadata": {
  "kernelspec": {
   "display_name": "Python 3",
   "language": "python",
   "name": "python3"
  },
  "language_info": {
   "codemirror_mode": {
    "name": "ipython",
    "version": 3
   },
   "file_extension": ".py",
   "mimetype": "text/x-python",
   "name": "python",
   "nbconvert_exporter": "python",
   "pygments_lexer": "ipython3",
   "version": "3.6.5"
  }
 },
 "nbformat": 4,
 "nbformat_minor": 2
}
