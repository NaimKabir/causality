{
 "cells": [
  {
   "cell_type": "code",
   "execution_count": 45,
   "metadata": {},
   "outputs": [],
   "source": [
    "import numpy as np\n",
    "import pandas as pd\n",
    "from itertools import product\n",
    "from sklearn.preprocessing import normalize"
   ]
  },
  {
   "cell_type": "markdown",
   "metadata": {},
   "source": [
    "#### Participant simulation\n",
    "\n",
    "First we'll create *n* participants in our experiment."
   ]
  },
  {
   "cell_type": "code",
   "execution_count": 46,
   "metadata": {},
   "outputs": [],
   "source": [
    "n = 1000"
   ]
  },
  {
   "cell_type": "markdown",
   "metadata": {},
   "source": [
    "For each of these participants, we'll randomly assign them some (Compliance, Response) behavior combination."
   ]
  },
  {
   "cell_type": "code",
   "execution_count": 47,
   "metadata": {},
   "outputs": [],
   "source": [
    "compliance_partitions = ['always_taker', \n",
    "                         'complier', \n",
    "                         'defier', \n",
    "                         'never_taker']\n",
    "response_partitions = ['always_better', \n",
    "                       'helped', \n",
    "                       'hurt', \n",
    "                       'never_better']\n",
    "\n",
    "# Take the cross product of these sets of types\n",
    "\n",
    "partition_types = product(compliance_partitions, response_partitions)\n",
    "partition_types = np.array(list(partition_types))\n"
   ]
  },
  {
   "cell_type": "code",
   "execution_count": 48,
   "metadata": {},
   "outputs": [],
   "source": [
    "# We'll simulate probabilities that our participants \n",
    "# will belong to one of the 16 possible behavior combinations\n",
    "\n",
    "random_floats = np.random.random([1,16]) \n",
    "partition_probabilities = normalize(random_floats, 'l1')\n",
    "partition_probabilities = partition_probabilities.flatten()\n",
    "\n",
    "# to be a true set of probabilities, the vector sum \n",
    "# needs to be 1\n",
    "\n",
    "# sometimes this can fail because of precision errors, \n",
    "# so let's assert it\n",
    "\n",
    "assert partition_probabilities.sum() == 1 "
   ]
  },
  {
   "cell_type": "code",
   "execution_count": 49,
   "metadata": {},
   "outputs": [],
   "source": [
    "# drawing participant compliance and response behaviors according to the\n",
    "# specified distribution\n",
    "\n",
    "participant_partition = np.random.choice(\n",
    "                            range(len(partition_types)), \n",
    "                            n, \n",
    "                            p=partition_probabilities\n",
    "                        )\n",
    "\n",
    "compliance_response_pairs = zip(*partition_types[participant_partition])\n",
    "compliance_type, response_type = list(compliance_response_pairs)\n",
    "\n",
    "# assigning participants to Control and Treatment groups \n",
    "# with 50% probability\n",
    "\n",
    "assignments = ['control', 'treatment']\n",
    "participant_assignment = np.random.choice(assignments, n)\n",
    "\n",
    "# compiling all information into a dataframe\n",
    "# that simulates the participants\n",
    "\n",
    "df = pd.DataFrame({'assignment': participant_assignment,\n",
    "                   'compliance_type': compliance_type,\n",
    "                   'response_type': response_type})"
   ]
  },
  {
   "cell_type": "markdown",
   "metadata": {},
   "source": [
    "### Simulate whether participants took treatment\n",
    "\n",
    "Depending on assignment and compliance type, we can simulate whether or not each participant took the treatment."
   ]
  },
  {
   "cell_type": "code",
   "execution_count": 50,
   "metadata": {},
   "outputs": [],
   "source": [
    "# if the participant is an always_taker, \n",
    "# they'll always take the treatment.\n",
    "\n",
    "df['took_treatment'] = (df.compliance_type == 'always_taker')\n",
    "\n",
    "# if they're a complier, they'll take the treatment \n",
    "# as long as they're in the treatment condition.\n",
    "\n",
    "df['took_treatment'] = df['took_treatment'] \\\n",
    "                        | ( \n",
    "                            (df.compliance_type == 'complier') \n",
    "                            & \n",
    "                            (df.assignment == 'treatment') \n",
    "                          )\n",
    "\n",
    "# if they're a defier, they'll only take the treatment \n",
    "# if they were in the control condition.\n",
    "\n",
    "df['took_treatment'] = df['took_treatment'] \\\n",
    "                        | ( \n",
    "                            (df.compliance_type == 'defier') \n",
    "                            & \n",
    "                            (df.assignment == 'control') \n",
    "                          )"
   ]
  },
  {
   "cell_type": "markdown",
   "metadata": {},
   "source": [
    "### Simulate Outcomes\n",
    "\n",
    "Now we can simulate outcomes from the experiment.\n",
    "\n",
    "Depending on whether they took the treatment and their `response_type`, did they end up in a Good or Bad state after the experiment's conclusion?"
   ]
  },
  {
   "cell_type": "code",
   "execution_count": 51,
   "metadata": {},
   "outputs": [],
   "source": [
    "# if the participant is of the always_better type, \n",
    "# they'll definitely have a good outcome.\n",
    "\n",
    "df['good_outcome'] = (df.response_type == 'always_better') \n",
    "\n",
    "# if the participant is of the 'helped' type, \n",
    "# they'll have a good outcome as long as they\n",
    "# took treatment.\n",
    "\n",
    "df['good_outcome'] = df['good_outcome'] \\\n",
    "                     | ( \n",
    "                        (df.response_type == 'helped') \n",
    "                        & \n",
    "                        (df.took_treatment) \n",
    "                       )\n",
    "\n",
    "# Otherwise, the outcome is going to be bad\n",
    "# and the column will have a False value."
   ]
  },
  {
   "cell_type": "markdown",
   "metadata": {},
   "source": [
    "We can now observe the probabilities of each (Treatment, Outcome) combination that would emerge, conditional on the assignment."
   ]
  },
  {
   "cell_type": "code",
   "execution_count": 52,
   "metadata": {},
   "outputs": [],
   "source": [
    "df['n'] = 1\n",
    "results = df.groupby(['assignment', \n",
    "                      'took_treatment', \n",
    "                      'good_outcome']).count().n\n",
    "results = results.to_frame()\n",
    "results['assignment_n'] = results.groupby('assignment').transform('sum')"
   ]
  },
  {
   "cell_type": "code",
   "execution_count": 53,
   "metadata": {},
   "outputs": [
    {
     "data": {
      "text/html": [
       "<div>\n",
       "<style scoped>\n",
       "    .dataframe tbody tr th:only-of-type {\n",
       "        vertical-align: middle;\n",
       "    }\n",
       "\n",
       "    .dataframe tbody tr th {\n",
       "        vertical-align: top;\n",
       "    }\n",
       "\n",
       "    .dataframe thead th {\n",
       "        text-align: right;\n",
       "    }\n",
       "</style>\n",
       "<table border=\"1\" class=\"dataframe\">\n",
       "  <thead>\n",
       "    <tr style=\"text-align: right;\">\n",
       "      <th></th>\n",
       "      <th></th>\n",
       "      <th></th>\n",
       "      <th>P( X, Y | Z )</th>\n",
       "    </tr>\n",
       "    <tr>\n",
       "      <th>assignment</th>\n",
       "      <th>took_treatment</th>\n",
       "      <th>good_outcome</th>\n",
       "      <th></th>\n",
       "    </tr>\n",
       "  </thead>\n",
       "  <tbody>\n",
       "    <tr>\n",
       "      <th rowspan=\"4\" valign=\"top\">control</th>\n",
       "      <th rowspan=\"2\" valign=\"top\">False</th>\n",
       "      <th>False</th>\n",
       "      <td>0.422764</td>\n",
       "    </tr>\n",
       "    <tr>\n",
       "      <th>True</th>\n",
       "      <td>0.117886</td>\n",
       "    </tr>\n",
       "    <tr>\n",
       "      <th rowspan=\"2\" valign=\"top\">True</th>\n",
       "      <th>False</th>\n",
       "      <td>0.308943</td>\n",
       "    </tr>\n",
       "    <tr>\n",
       "      <th>True</th>\n",
       "      <td>0.150407</td>\n",
       "    </tr>\n",
       "    <tr>\n",
       "      <th rowspan=\"4\" valign=\"top\">treatment</th>\n",
       "      <th rowspan=\"2\" valign=\"top\">False</th>\n",
       "      <th>False</th>\n",
       "      <td>0.397638</td>\n",
       "    </tr>\n",
       "    <tr>\n",
       "      <th>True</th>\n",
       "      <td>0.124016</td>\n",
       "    </tr>\n",
       "    <tr>\n",
       "      <th rowspan=\"2\" valign=\"top\">True</th>\n",
       "      <th>False</th>\n",
       "      <td>0.240157</td>\n",
       "    </tr>\n",
       "    <tr>\n",
       "      <th>True</th>\n",
       "      <td>0.238189</td>\n",
       "    </tr>\n",
       "  </tbody>\n",
       "</table>\n",
       "</div>"
      ],
      "text/plain": [
       "                                        P( X, Y | Z )\n",
       "assignment took_treatment good_outcome               \n",
       "control    False          False              0.422764\n",
       "                          True               0.117886\n",
       "           True           False              0.308943\n",
       "                          True               0.150407\n",
       "treatment  False          False              0.397638\n",
       "                          True               0.124016\n",
       "           True           False              0.240157\n",
       "                          True               0.238189"
      ]
     },
     "execution_count": 53,
     "metadata": {},
     "output_type": "execute_result"
    }
   ],
   "source": [
    "p_states = results.n / results.assignment_n\n",
    "p_states = p_states.rename(\"P( X, Y | Z )\")\n",
    "\n",
    "# display\n",
    "p_states.to_frame()"
   ]
  },
  {
   "cell_type": "markdown",
   "metadata": {},
   "source": [
    "### Intent-to-treat average treatment effect\n",
    "\n",
    "All we need to do is sum up all 'good' from the Treatment column, and subtract by all 'good' from the Control column.\n"
   ]
  },
  {
   "cell_type": "code",
   "execution_count": 67,
   "metadata": {},
   "outputs": [
    {
     "name": "stdout",
     "output_type": "stream",
     "text": [
      "ATE: 0.0939\n"
     ]
    }
   ],
   "source": [
    "itt_ate = df[df.assignment == 'treatment'].good_outcome.mean() \\\n",
    "          - df[df.assignment == 'control'].good_outcome.mean() \n",
    "\n",
    "# display\n",
    "print(\"ATE: %6.4f\" % itt_ate)"
   ]
  },
  {
   "cell_type": "markdown",
   "metadata": {},
   "source": [
    "### Linear optimization\n",
    "\n",
    "First we'll get all the probabilities we need: p(x,y|z) for each x,y,z combination:"
   ]
  },
  {
   "cell_type": "code",
   "execution_count": 79,
   "metadata": {},
   "outputs": [],
   "source": [
    "states = list(product(['treatment','control'],[0,1], [0,1]))\n",
    "\n",
    "get_conditional_probability = lambda assignment, took, outcome: \\\n",
    "                ( \n",
    "                    (df[df.assignment == assignment].took_treatment == took)\n",
    "                    & \n",
    "                    (df[df.assignment == assignment].good_outcome == outcome)  \n",
    "                ).mean()\n",
    "\n",
    "# this terrible list comprehension\n",
    "# collects p(x,y|z) for all 'states'\n",
    "p_states = {\n",
    "            f\"{assignment}/\"\n",
    "            + f\"{'treated' if took == 1 else 'untreated'}/\"\n",
    "            + f\"{'good' if outcome ==1 else 'bad'}\" : \n",
    "                get_conditional_probability(assignment, took, outcome)\n",
    "                for assignment, took, outcome in states\n",
    "            }"
   ]
  },
  {
   "cell_type": "code",
   "execution_count": 80,
   "metadata": {},
   "outputs": [
    {
     "data": {
      "text/plain": [
       "{'treatment/untreated/bad': 0.39763779527559057,\n",
       " 'treatment/untreated/good': 0.12401574803149606,\n",
       " 'treatment/treated/bad': 0.24015748031496062,\n",
       " 'treatment/treated/good': 0.23818897637795275,\n",
       " 'control/untreated/bad': 0.42276422764227645,\n",
       " 'control/untreated/good': 0.11788617886178862,\n",
       " 'control/treated/bad': 0.3089430894308943,\n",
       " 'control/treated/good': 0.15040650406504066}"
      ]
     },
     "execution_count": 80,
     "metadata": {},
     "output_type": "execute_result"
    }
   ],
   "source": [
    "p_states"
   ]
  },
  {
   "cell_type": "markdown",
   "metadata": {},
   "source": [
    "Now we can frame our linear programming problem.\n",
    "\n",
    "We're minimizing/maximizing our expression of an ATE given the constraints at hand."
   ]
  },
  {
   "cell_type": "code",
   "execution_count": 111,
   "metadata": {},
   "outputs": [],
   "source": [
    "import pulp\n",
    "\n",
    "# first we set up 'problems', objects that\n",
    "# can take an objective like 'maximize' as well as constraints\n",
    "\n",
    "max_problem = pulp.LpProblem(\"max ATE\", pulp.LpMaximize)"
   ]
  },
  {
   "cell_type": "markdown",
   "metadata": {},
   "source": [
    "We can now specify variables, symbols that the linear program will know to vary in order to maximize or minimize our objective function. These variables are distribution of **U**: the probabilities of belonging to one of the archetypal (Compliance, Response) partitions."
   ]
  },
  {
   "cell_type": "code",
   "execution_count": 112,
   "metadata": {},
   "outputs": [],
   "source": [
    "# Linear optimization ranges over possible variables\n",
    "# to find those hidden variables that maximize\n",
    "# or minimize our objective.\n",
    "\n",
    "# Our variables 'q' are the the probability of \n",
    "# being in one of the partitions\n",
    "\n",
    "partition_names = ['/'.join([compliance, response]) \n",
    "                       for compliance, response in partition_types]\n",
    "\n",
    "q = {partition: pulp.LpVariable(partition, lowBound=0) for partition in partition_names}"
   ]
  },
  {
   "cell_type": "markdown",
   "metadata": {},
   "source": [
    "We can add constraints on these variables as well, by simply adding them to the problem we've framed!"
   ]
  },
  {
   "cell_type": "code",
   "execution_count": 113,
   "metadata": {},
   "outputs": [],
   "source": [
    "# since our hidden vars are probabilities \n",
    "# the sum of them should all be under 1\n",
    "\n",
    "max_problem += sum([v for k,v in q.items()]) == 1"
   ]
  },
  {
   "cell_type": "code",
   "execution_count": 114,
   "metadata": {},
   "outputs": [],
   "source": [
    "# Let's set the relationship between the distribution of U.\n",
    "# and the probabilities we observe. The variable name\n",
    "# scheme is p_Z_X_Y\n",
    "\n",
    "\n",
    "p_treatment_untreated_bad = q['never_taker/never_better'] \\\n",
    "                            + q['defier/never_better'] \\\n",
    "                            + q['never_taker/helped'] \\\n",
    "                            + q['defier/helped'] \n",
    "\n",
    "p_treatment_untreated_good = q['never_taker/always_better'] \\\n",
    "                             + q['defier/always_better'] \\\n",
    "                             + q['never_taker/hurt'] \\\n",
    "                             + q['defier/hurt']\n",
    "\n",
    "p_treatment_treated_bad = q['always_taker/never_better'] \\\n",
    "                          + q['complier/never_better'] \\\n",
    "                          + q['always_taker/hurt'] \\\n",
    "                          + q['complier/hurt']\n",
    "\n",
    "p_treatment_treated_good = q['always_taker/always_better'] \\\n",
    "                           + q['complier/always_better'] \\\n",
    "                           + q['always_taker/helped'] \\\n",
    "                           + q['complier/helped']\n",
    "\n",
    "p_control_untreated_bad = q['never_taker/never_better'] \\\n",
    "                          + q['complier/never_better'] \\\n",
    "                          + q['never_taker/helped'] \\\n",
    "                          + q['complier/helped']\n",
    "\n",
    "p_control_untreated_good = q['never_taker/always_better'] \\\n",
    "                           + q['complier/never_better'] \\\n",
    "                           + q['never_taker/hurt'] \\\n",
    "                           + q['complier/hurt']\n",
    "\n",
    "p_control_treated_bad = q['always_taker/never_better'] \\\n",
    "                        + q['defier/never_better'] \\\n",
    "                        + q['always_taker/hurt'] \\\n",
    "                        + q['defier/hurt']\n",
    "\n",
    "p_control_treated_good = q['always_taker/always_better'] \\\n",
    "                         + q['defier/always_better'] \\\n",
    "                         + q['always_taker/helped'] \\\n",
    "                         + q['defier/helped']"
   ]
  },
  {
   "cell_type": "code",
   "execution_count": 115,
   "metadata": {},
   "outputs": [],
   "source": [
    "# I now apply these linear relationships between U\n",
    "# and P(X,Y|Z) as constraints on the LP problem.\n",
    "\n",
    "# Though there's a compact and elegant linear algebraic way\n",
    "# of doing this, I'm being painfully explicit here because\n",
    "# it's easier to understand (for me at least)\n",
    "\n",
    "max_problem += p_treatment_untreated_bad == p_states['treatment/untreated/bad']\n",
    "max_problem += p_treatment_untreated_good == p_states['treatment/untreated/good']\n",
    "max_problem += p_treatment_treated_bad == p_states['treatment/treated/bad']\n",
    "max_problem += p_control_untreated_bad == p_states['control/untreated/bad']\n",
    "max_problem += p_control_untreated_good == p_states['control/untreated/good']\n",
    "max_problem += p_control_treated_bad == p_states['control/treated/bad']\n",
    "\n",
    "\n",
    "# I leave some constraints out because it *over*constrains \n",
    "# the problem and makes it impossible to solve\n",
    "# It turns out that the other constraints actually imply \n",
    "# these two, so we can just leave them commented out.\n",
    "\n",
    "#max_problem += p_treatment_treated_good == p_states['treatment/treated/good']\n",
    "#max_problem += p_control_treated_good == p_states['control/treated/good']"
   ]
  },
  {
   "cell_type": "markdown",
   "metadata": {},
   "source": [
    "With constraints set, all that remains to do set the objective function, our ATE.\n",
    "\n",
    "$$ATE = P(helped) - P(hurt)$$\n",
    "\n",
    "where $P(helped)$ is the probability of being in a partition with a 'helped' response type and $P(hurt)$ is the probability of being in a partition with a 'hurt' response type.\n",
    "\n",
    "Then we can just hit `solve()`."
   ]
  },
  {
   "cell_type": "code",
   "execution_count": 116,
   "metadata": {},
   "outputs": [],
   "source": [
    "max_problem += q['complier/helped'] \\\n",
    "               + q['defier/helped'] \\\n",
    "               + q['always_taker/helped'] \\\n",
    "               + q['never_taker/helped'] \\\n",
    "               - q['complier/hurt'] \\\n",
    "               - q['defier/hurt'] \\\n",
    "               - q['always_taker/hurt'] \\\n",
    "               - q['never_taker/hurt']"
   ]
  },
  {
   "cell_type": "code",
   "execution_count": 119,
   "metadata": {},
   "outputs": [
    {
     "data": {
      "text/plain": [
       "'Optimal'"
      ]
     },
     "execution_count": 119,
     "metadata": {},
     "output_type": "execute_result"
    }
   ],
   "source": [
    "pulp.LpStatus[max_problem.solve()]"
   ]
  },
  {
   "cell_type": "markdown",
   "metadata": {},
   "source": [
    "The problem's been optimized, and now we can see what U looks like in the best case scenario."
   ]
  },
  {
   "cell_type": "code",
   "execution_count": 127,
   "metadata": {},
   "outputs": [
    {
     "data": {
      "text/html": [
       "<div>\n",
       "<style scoped>\n",
       "    .dataframe tbody tr th:only-of-type {\n",
       "        vertical-align: middle;\n",
       "    }\n",
       "\n",
       "    .dataframe tbody tr th {\n",
       "        vertical-align: top;\n",
       "    }\n",
       "\n",
       "    .dataframe thead th {\n",
       "        text-align: right;\n",
       "    }\n",
       "</style>\n",
       "<table border=\"1\" class=\"dataframe\">\n",
       "  <thead>\n",
       "    <tr style=\"text-align: right;\">\n",
       "      <th></th>\n",
       "      <th>p(U=u)</th>\n",
       "    </tr>\n",
       "  </thead>\n",
       "  <tbody>\n",
       "    <tr>\n",
       "      <th>always_taker/always_better</th>\n",
       "      <td>0.000000</td>\n",
       "    </tr>\n",
       "    <tr>\n",
       "      <th>always_taker/helped</th>\n",
       "      <td>0.000000</td>\n",
       "    </tr>\n",
       "    <tr>\n",
       "      <th>always_taker/hurt</th>\n",
       "      <td>0.000000</td>\n",
       "    </tr>\n",
       "    <tr>\n",
       "      <th>always_taker/never_better</th>\n",
       "      <td>0.240157</td>\n",
       "    </tr>\n",
       "    <tr>\n",
       "      <th>complier/always_better</th>\n",
       "      <td>0.000000</td>\n",
       "    </tr>\n",
       "    <tr>\n",
       "      <th>complier/helped</th>\n",
       "      <td>0.238189</td>\n",
       "    </tr>\n",
       "    <tr>\n",
       "      <th>complier/hurt</th>\n",
       "      <td>0.000000</td>\n",
       "    </tr>\n",
       "    <tr>\n",
       "      <th>complier/never_better</th>\n",
       "      <td>0.000000</td>\n",
       "    </tr>\n",
       "    <tr>\n",
       "      <th>defier/always_better</th>\n",
       "      <td>0.006130</td>\n",
       "    </tr>\n",
       "    <tr>\n",
       "      <th>defier/helped</th>\n",
       "      <td>0.144277</td>\n",
       "    </tr>\n",
       "    <tr>\n",
       "      <th>defier/hurt</th>\n",
       "      <td>0.000000</td>\n",
       "    </tr>\n",
       "    <tr>\n",
       "      <th>defier/never_better</th>\n",
       "      <td>0.068786</td>\n",
       "    </tr>\n",
       "    <tr>\n",
       "      <th>never_taker/always_better</th>\n",
       "      <td>0.117886</td>\n",
       "    </tr>\n",
       "    <tr>\n",
       "      <th>never_taker/helped</th>\n",
       "      <td>0.184575</td>\n",
       "    </tr>\n",
       "    <tr>\n",
       "      <th>never_taker/hurt</th>\n",
       "      <td>0.000000</td>\n",
       "    </tr>\n",
       "    <tr>\n",
       "      <th>never_taker/never_better</th>\n",
       "      <td>0.000000</td>\n",
       "    </tr>\n",
       "  </tbody>\n",
       "</table>\n",
       "</div>"
      ],
      "text/plain": [
       "                              p(U=u)\n",
       "always_taker/always_better  0.000000\n",
       "always_taker/helped         0.000000\n",
       "always_taker/hurt           0.000000\n",
       "always_taker/never_better   0.240157\n",
       "complier/always_better      0.000000\n",
       "complier/helped             0.238189\n",
       "complier/hurt               0.000000\n",
       "complier/never_better       0.000000\n",
       "defier/always_better        0.006130\n",
       "defier/helped               0.144277\n",
       "defier/hurt                 0.000000\n",
       "defier/never_better         0.068786\n",
       "never_taker/always_better   0.117886\n",
       "never_taker/helped          0.184575\n",
       "never_taker/hurt            0.000000\n",
       "never_taker/never_better    0.000000"
      ]
     },
     "execution_count": 127,
     "metadata": {},
     "output_type": "execute_result"
    }
   ],
   "source": [
    "q_max = {partition:pulp.value(partition_p) \n",
    "         for partition, partition_p in q.items()}\n",
    "\n",
    "# display\n",
    "\n",
    "pd.DataFrame(q_max, index=['p(U=u)']).T"
   ]
  },
  {
   "cell_type": "markdown",
   "metadata": {},
   "source": [
    "Given these we can calculate our best-case ATE."
   ]
  },
  {
   "cell_type": "code",
   "execution_count": 129,
   "metadata": {},
   "outputs": [
    {
     "name": "stdout",
     "output_type": "stream",
     "text": [
      "Best-Case ATE: 0.5670\n"
     ]
    }
   ],
   "source": [
    "ate = lambda q: q['complier/helped'] \\\n",
    "               + q['defier/helped'] \\\n",
    "               + q['always_taker/helped'] \\\n",
    "               + q['never_taker/helped'] \\\n",
    "               - q['complier/hurt'] \\\n",
    "               - q['defier/hurt'] \\\n",
    "               - q['always_taker/hurt'] \\\n",
    "               - q['never_taker/hurt']\n",
    "\n",
    "best_case_ate = ate(q_max)\n",
    "\n",
    "# display\n",
    "print(\"Best-Case ATE: %6.4f\" % best_case_ate)"
   ]
  }
 ],
 "metadata": {
  "kernelspec": {
   "display_name": "Python 3",
   "language": "python",
   "name": "python3"
  },
  "language_info": {
   "codemirror_mode": {
    "name": "ipython",
    "version": 3
   },
   "file_extension": ".py",
   "mimetype": "text/x-python",
   "name": "python",
   "nbconvert_exporter": "python",
   "pygments_lexer": "ipython3",
   "version": "3.7.4"
  }
 },
 "nbformat": 4,
 "nbformat_minor": 2
}
