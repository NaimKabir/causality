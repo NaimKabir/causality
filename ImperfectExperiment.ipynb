{
 "cells": [
  {
   "cell_type": "code",
   "execution_count": 2,
   "metadata": {},
   "outputs": [],
   "source": [
    "import numpy as np\n",
    "import pandas as pd\n",
    "from itertools import product"
   ]
  },
  {
   "cell_type": "code",
   "execution_count": 3,
   "metadata": {},
   "outputs": [],
   "source": [
    "# Participant simulation\n",
    "\n",
    "# we'll create 1000 participants in our experiment\n",
    "\n",
    "n = 1000"
   ]
  },
  {
   "cell_type": "code",
   "execution_count": 4,
   "metadata": {},
   "outputs": [],
   "source": [
    "# let's create those participant partitions we discussed above\n",
    "\n",
    "compliance_partitions = ['always_taker', 'complier', 'defier', 'never_taker']\n",
    "response_partitions = ['always_better', 'helped', 'hurt', 'never_better']\n",
    "partition_types = np.array(list(product(compliance_partitions, response_partitions)))\n",
    "\n",
    "# we can also simulate probabilities that our participants will belong to one of the\n",
    "# 16 possible behavior combinations\n",
    "\n",
    "partition_probabilities = np.random.random(16)\n",
    "partition_probabilities = partition_probabilities / partition_probabilities.sum()\n",
    "\n",
    "# to be a true set of probabilities, the vector sum needs to be 1\n",
    "# sometimes this can fail because of precision errors\n",
    "assert partition_probabilities.sum() == 1 "
   ]
  },
  {
   "cell_type": "code",
   "execution_count": 5,
   "metadata": {},
   "outputs": [],
   "source": [
    "# drawing participant compliance and response behaviors according to the\n",
    "# specified distribution\n",
    "\n",
    "participant_partition = np.random.choice(range(len(partition_types)), n, p=partition_probabilities)\n",
    "compliance_type, response_type = list(zip(*partition_types[participant_partition]))\n",
    "\n",
    "# assigning participants to Control and Treatment groups with 50% probability\n",
    "\n",
    "assignments = np.array(['control', 'treatment'])\n",
    "participant_assignment = assignments[np.concatenate([np.zeros(n//2), np.ones(n//2)]).astype('int32')]\n",
    "\n",
    "# compiling all information into our dataframe\n",
    "\n",
    "df = pd.DataFrame({'assignment': participant_assignment,\n",
    "                   'compliance_type': compliance_type,\n",
    "                   'response_type': response_type})"
   ]
  },
  {
   "cell_type": "code",
   "execution_count": 6,
   "metadata": {},
   "outputs": [],
   "source": [
    "# Simulate outcomes\n",
    "\n",
    "# depending on assignment and compliance type, did the participant take the treatment?\n",
    "\n",
    "# if the participant is an always_taker, they'll always take the treatment.\n",
    "# if they're a complier, they'll take the treatment as long as they're in the treatment condition.\n",
    "# if they're a defier, they'll only take the treatment if they were in the control condition.\n",
    "df['took_treatment'] = (df.compliance_type == 'always_taker') \\\n",
    "                       | ( (df.compliance_type == 'complier') & (df.assignment == 'treatment')) \\\n",
    "                       | ( (df.compliance_type == 'defier') & (df.assignment == 'control'))\n",
    "\n",
    "# depending on whether they took the treatment and their response_type, \n",
    "# what was the participant's outcome?\n",
    "\n",
    "# if the participant is of the always_better type, they'll definitely have a good outcome.\n",
    "# if the participant is of the 'helped' type, they'll have a good outcome as long as they\n",
    "# took treatment.\n",
    "df['good_outcome'] = (df.response_type == 'always_better') \\\n",
    "                     | ( (df.response_type == 'helped') & (df.took_treatment) )\n"
   ]
  },
  {
   "cell_type": "code",
   "execution_count": 7,
   "metadata": {},
   "outputs": [
    {
     "data": {
      "text/html": [
       "<div>\n",
       "<style scoped>\n",
       "    .dataframe tbody tr th:only-of-type {\n",
       "        vertical-align: middle;\n",
       "    }\n",
       "\n",
       "    .dataframe tbody tr th {\n",
       "        vertical-align: top;\n",
       "    }\n",
       "\n",
       "    .dataframe thead th {\n",
       "        text-align: right;\n",
       "    }\n",
       "</style>\n",
       "<table border=\"1\" class=\"dataframe\">\n",
       "  <thead>\n",
       "    <tr style=\"text-align: right;\">\n",
       "      <th></th>\n",
       "      <th>probabilities</th>\n",
       "    </tr>\n",
       "  </thead>\n",
       "  <tbody>\n",
       "    <tr>\n",
       "      <th>treatment/untreated/bad</th>\n",
       "      <td>0.278</td>\n",
       "    </tr>\n",
       "    <tr>\n",
       "      <th>treatment/untreated/good</th>\n",
       "      <td>0.174</td>\n",
       "    </tr>\n",
       "    <tr>\n",
       "      <th>treatment/treated/bad</th>\n",
       "      <td>0.344</td>\n",
       "    </tr>\n",
       "    <tr>\n",
       "      <th>treatment/treated/good</th>\n",
       "      <td>0.204</td>\n",
       "    </tr>\n",
       "    <tr>\n",
       "      <th>control/untreated/bad</th>\n",
       "      <td>0.336</td>\n",
       "    </tr>\n",
       "    <tr>\n",
       "      <th>control/untreated/good</th>\n",
       "      <td>0.182</td>\n",
       "    </tr>\n",
       "    <tr>\n",
       "      <th>control/treated/bad</th>\n",
       "      <td>0.316</td>\n",
       "    </tr>\n",
       "    <tr>\n",
       "      <th>control/treated/good</th>\n",
       "      <td>0.166</td>\n",
       "    </tr>\n",
       "  </tbody>\n",
       "</table>\n",
       "</div>"
      ],
      "text/plain": [
       "                          probabilities\n",
       "treatment/untreated/bad           0.278\n",
       "treatment/untreated/good          0.174\n",
       "treatment/treated/bad             0.344\n",
       "treatment/treated/good            0.204\n",
       "control/untreated/bad             0.336\n",
       "control/untreated/good            0.182\n",
       "control/treated/bad               0.316\n",
       "control/treated/good              0.166"
      ]
     },
     "execution_count": 7,
     "metadata": {},
     "output_type": "execute_result"
    }
   ],
   "source": [
    "# we can observe the probabilities of each Assignment, Treatment, Outcome\n",
    "# combinations that would emerge\n",
    "\n",
    "# get all the probabilities we need: p(z,x,y) for each z,x,y combination\n",
    "\n",
    "# we can get all states by taking the cartesian product of the different\n",
    "# binary possibilities: treatment vs. control group, took_treatment=True vs. False, etc.\n",
    "states = product(['treatment','control'],[False, True], [False, True])\n",
    "\n",
    "# this is an ugly list comprehension that calculates probabilities for each of the states\n",
    "# we generated above\n",
    "p_states = {f\"{assignment}/{'treated' if treated == 1 else 'untreated'}/{'good' if outcome == 1 else 'bad'}\" : \n",
    "                ( (df[df.assignment == assignment].took_treatment == treated)\n",
    "                   & (df[df.assignment == assignment].good_outcome == outcome)  ).mean()\n",
    "                for assignment, treated, outcome in states\n",
    "                }\n",
    "\n",
    "# display:\n",
    "pd.DataFrame(p_states, index=['probabilities']).T"
   ]
  },
  {
   "cell_type": "code",
   "execution_count": 8,
   "metadata": {},
   "outputs": [],
   "source": [
    "pd.DataFrame(p_states, index=['probabilities']).T.to_csv('experiment_probas.csv')"
   ]
  },
  {
   "cell_type": "code",
   "execution_count": null,
   "metadata": {},
   "outputs": [],
   "source": [
    "# intent-to-treat average treatment effect\n",
    "\n",
    "# sum up all 'good' from the Treatment column, and subtract by all 'good' from the Control\n"
   ]
  },
  {
   "cell_type": "code",
   "execution_count": null,
   "metadata": {},
   "outputs": [],
   "source": [
    "# Intent to treat analysis:\n",
    "\n",
    "itt_ate = df[df.assignment == 'treatment'].good_outcome.mean() \\\n",
    "          - df[df.assignment == 'control'].good_outcome.mean() \n",
    "\n",
    "print(\"ATE: %6.4f\" % itt_ate)"
   ]
  },
  {
   "cell_type": "code",
   "execution_count": null,
   "metadata": {},
   "outputs": [],
   "source": [
    "# Causal analysis\n",
    "\n",
    "# get all the probabilities we need: p(z,x,y) for each z,x,y combination\n",
    "states = list(product(['treatment','control'],[0,1], [0,1]))\n",
    "\n",
    "p_states = {f\"{assignment}/{'treated' if took == 1 else 'untreated'}/{'good' if outcome ==1 else 'bad'}\" : \n",
    "                ( (df[df.assignment == assignment].took_treatment == took)\n",
    "                   & (df[df.assignment == assignment].good_outcome == outcome)  ).mean()\n",
    "                for assignment, took, outcome in states\n",
    "                }"
   ]
  },
  {
   "cell_type": "code",
   "execution_count": null,
   "metadata": {},
   "outputs": [],
   "source": [
    "p_states"
   ]
  },
  {
   "cell_type": "code",
   "execution_count": null,
   "metadata": {},
   "outputs": [],
   "source": [
    "true_ate = (df.response_type == 'helped').mean() - (df.response_type == 'hurt').mean()"
   ]
  },
  {
   "cell_type": "code",
   "execution_count": 9,
   "metadata": {},
   "outputs": [],
   "source": [
    "# linear programming problem\n",
    "import pulp\n",
    "min_problem = pulp.LpProblem(\"min ATE\", pulp.LpMinimize)\n",
    "max_problem = pulp.LpProblem(\"max ATE\", pulp.LpMaximize)\n",
    "\n",
    "# our hidden variables are the the probability of being in one of the partitions\n",
    "partition_names = ['/'.join([compliance, response]) for compliance, response in partition_types]\n",
    "q = {partition: pulp.LpVariable(partition, lowBound=0) for partition in partition_names}"
   ]
  },
  {
   "cell_type": "code",
   "execution_count": 10,
   "metadata": {},
   "outputs": [],
   "source": [
    "# since our hidden vars are probabilities the sum of them should all be under 1\n",
    "min_problem += sum([v for k,v in q.items()]) == 1"
   ]
  },
  {
   "cell_type": "code",
   "execution_count": 11,
   "metadata": {},
   "outputs": [],
   "source": [
    "# statements\n",
    "p_treatment_untreated_bad = q['never_taker/never_better'] + q['defier/never_better'] \\\n",
    "                             + q['never_taker/helped'] + q['defier/helped']\n",
    "\n",
    "p_treatment_untreated_good = q['never_taker/always_better'] + q['defier/always_better'] \\\n",
    "                             + q['never_taker/hurt'] + q['defier/hurt']\n",
    "\n",
    "p_treatment_treated_bad = q['always_taker/never_better'] + q['complier/never_better'] \\\n",
    "                             + q['always_taker/hurt'] + q['complier/hurt']\n",
    "\n",
    "p_treatment_treated_good = q['always_taker/always_better'] + q['complier/always_better'] \\\n",
    "                             + q['always_taker/helped'] + q['complier/helped']\n",
    "\n",
    "p_control_untreated_bad = q['never_taker/never_better'] + q['complier/never_better'] \\\n",
    "                             + q['never_taker/helped'] + q['complier/helped']\n",
    "\n",
    "p_control_untreated_good = q['never_taker/always_better'] + q['complier/never_better'] \\\n",
    "                             + q['never_taker/hurt'] + q['complier/hurt']\n",
    "\n",
    "p_control_treated_bad = q['always_taker/never_better'] + q['defier/never_better'] \\\n",
    "                             + q['always_taker/hurt'] + q['defier/hurt']\n",
    "\n",
    "p_control_treated_good = q['always_taker/always_better'] + q['defier/always_better'] \\\n",
    "                             + q['always_taker/helped'] + q['defier/helped']"
   ]
  },
  {
   "cell_type": "code",
   "execution_count": 12,
   "metadata": {},
   "outputs": [],
   "source": [
    "# there's a natural mapping from probabilities we see to the hidden variables we have\n",
    "# we'll spell these out one by one.\n",
    "# there are probably smarter ways to express this as a vector operation,\n",
    "# but this is easier to understand\n",
    "min_problem += p_treatment_untreated_bad == p_states['treatment/untreated/bad']\n",
    "\n",
    "min_problem += p_treatment_untreated_good == p_states['treatment/untreated/good']\n",
    "\n",
    "min_problem += p_treatment_treated_bad == p_states['treatment/treated/bad']\n",
    "\n",
    "min_problem += p_control_untreated_bad == p_states['control/untreated/bad']\n",
    "\n",
    "min_problem += p_control_untreated_good == p_states['control/untreated/good']\n",
    "\n",
    "min_problem += p_control_treated_bad == p_states['control/treated/bad']\n",
    "\n",
    "#min_problem += p_treatment_treated_good == p_states['treatment/treated/good']\n",
    "\n",
    "#min_problem += p_control_treated_good == p_states['control/treated/good']"
   ]
  },
  {
   "cell_type": "code",
   "execution_count": 13,
   "metadata": {},
   "outputs": [],
   "source": [
    "min_problem += q['complier/helped'] + q['defier/helped'] + q['always_taker/helped'] + q['never_taker/helped'] \\\n",
    "              - q['complier/hurt'] - q['defier/hurt'] - q['always_taker/hurt'] - q['never_taker/hurt']"
   ]
  },
  {
   "cell_type": "code",
   "execution_count": 14,
   "metadata": {},
   "outputs": [
    {
     "data": {
      "text/plain": [
       "'Optimal'"
      ]
     },
     "execution_count": 14,
     "metadata": {},
     "output_type": "execute_result"
    }
   ],
   "source": [
    "pulp.LpStatus[min_problem.solve()]"
   ]
  },
  {
   "cell_type": "code",
   "execution_count": 15,
   "metadata": {},
   "outputs": [
    {
     "data": {
      "text/plain": [
       "{'always_taker/always_better': 0.174,\n",
       " 'always_taker/helped': 0.0,\n",
       " 'always_taker/hurt': 0.316,\n",
       " 'always_taker/never_better': 0.0,\n",
       " 'complier/always_better': 0.0,\n",
       " 'complier/helped': 0.03,\n",
       " 'complier/hurt': 0.0,\n",
       " 'complier/never_better': 0.028,\n",
       " 'defier/always_better': 0.02,\n",
       " 'defier/helped': 0.0,\n",
       " 'defier/hurt': 0.0,\n",
       " 'defier/never_better': 0.0,\n",
       " 'never_taker/always_better': 0.0,\n",
       " 'never_taker/helped': 0.0,\n",
       " 'never_taker/hurt': 0.154,\n",
       " 'never_taker/never_better': 0.278}"
      ]
     },
     "execution_count": 15,
     "metadata": {},
     "output_type": "execute_result"
    }
   ],
   "source": [
    "q_min = {partition:pulp.value(partition_p) for partition, partition_p in q.items()}\n",
    "q_min"
   ]
  },
  {
   "cell_type": "code",
   "execution_count": null,
   "metadata": {},
   "outputs": [],
   "source": [
    "def apply_constraints(problem):\n",
    "    \n",
    "    # our hidden variables are the the probability of being in one of the partitions\n",
    "    partition_names = ['/'.join([compliance, response]) for compliance, response in partition_types]\n",
    "    q = {partition: pulp.LpVariable(partition, lowBound=0) for partition in partition_names}\n",
    "    \n",
    "    problem += sum([v for k,v in q.items()]) == 1\n",
    "    \n",
    "    p_treatment_untreated_bad = q['never_taker/never_better'] + q['defier/never_better'] \\\n",
    "                             + q['never_taker/helped'] + q['defier/helped']\n",
    "\n",
    "    p_treatment_untreated_good = q['never_taker/always_better'] + q['defier/always_better'] \\\n",
    "                                 + q['never_taker/hurt'] + q['defier/hurt']\n",
    "\n",
    "    p_treatment_treated_bad = q['always_taker/never_better'] + q['complier/never_better'] \\\n",
    "                                 + q['always_taker/hurt'] + q['complier/hurt']\n",
    "\n",
    "    p_treatment_treated_good = q['always_taker/always_better'] + q['complier/always_better'] \\\n",
    "                                 + q['always_taker/helped'] + q['complier/helped']\n",
    "\n",
    "    p_control_untreated_bad = q['never_taker/never_better'] + q['complier/never_better'] \\\n",
    "                                 + q['never_taker/helped'] + q['complier/helped']\n",
    "\n",
    "    p_control_untreated_good = q['never_taker/always_better'] + q['complier/never_better'] \\\n",
    "                                 + q['never_taker/hurt'] + q['complier/hurt']\n",
    "\n",
    "    p_control_treated_bad = q['always_taker/never_better'] + q['defier/never_better'] \\\n",
    "                                 + q['always_taker/hurt'] + q['defier/hurt']\n",
    "\n",
    "    p_control_treated_good = q['always_taker/always_better'] + q['defier/always_better'] \\\n",
    "                                 + q['always_taker/helped'] + q['defier/helped']\n",
    "    \n",
    "    problem += p_treatment_untreated_bad == p_states['treatment/untreated/bad']\n",
    "    problem += p_treatment_untreated_good == p_states['treatment/untreated/good']\n",
    "    problem += p_treatment_treated_bad == p_states['treatment/treated/bad']\n",
    "    problem += p_control_untreated_bad == p_states['control/untreated/bad']\n",
    "    problem += p_control_untreated_good == p_states['control/untreated/good']\n",
    "    problem += p_control_treated_bad == p_states['control/treated/bad']\n",
    "    \n",
    "    problem += q['complier/helped'] + q['defier/helped'] + q['always_taker/helped'] + q['never_taker/helped'] \\\n",
    "              - q['complier/hurt'] - q['defier/hurt'] - q['always_taker/hurt'] - q['never_taker/hurt']\n",
    "    \n",
    "    \n",
    "    status = pulp.LpStatus[problem.solve()]\n",
    "    \n",
    "    if status != 'Optimal':\n",
    "        raise ValueError('Infeasible')\n",
    "        \n",
    "    q_solved = {partition:pulp.value(partition_p) for partition, partition_p in q.items()}\n",
    "    \n",
    "    return q_solved\n"
   ]
  },
  {
   "cell_type": "code",
   "execution_count": null,
   "metadata": {},
   "outputs": [],
   "source": [
    "q_min = apply_constraints(min_problem)\n",
    "q_max = apply_constraints(max_problem)"
   ]
  },
  {
   "cell_type": "code",
   "execution_count": null,
   "metadata": {},
   "outputs": [],
   "source": [
    "ate = lambda q: q['complier/helped'] + q['defier/helped'] + q['always_taker/helped'] + q['never_taker/helped'] \\\n",
    "              - q['complier/hurt'] - q['defier/hurt'] - q['always_taker/hurt'] - q['never_taker/hurt']\n",
    "\n",
    "min_ate = ate(q_min)"
   ]
  },
  {
   "cell_type": "code",
   "execution_count": null,
   "metadata": {},
   "outputs": [],
   "source": [
    "max_ate = ate(q_max)"
   ]
  },
  {
   "cell_type": "code",
   "execution_count": null,
   "metadata": {},
   "outputs": [],
   "source": [
    "min_ate"
   ]
  },
  {
   "cell_type": "code",
   "execution_count": null,
   "metadata": {},
   "outputs": [],
   "source": [
    "max_ate"
   ]
  },
  {
   "cell_type": "code",
   "execution_count": null,
   "metadata": {},
   "outputs": [],
   "source": []
  }
 ],
 "metadata": {
  "kernelspec": {
   "display_name": "Python 3",
   "language": "python",
   "name": "python3"
  },
  "language_info": {
   "codemirror_mode": {
    "name": "ipython",
    "version": 3
   },
   "file_extension": ".py",
   "mimetype": "text/x-python",
   "name": "python",
   "nbconvert_exporter": "python",
   "pygments_lexer": "ipython3",
   "version": "3.6.5"
  }
 },
 "nbformat": 4,
 "nbformat_minor": 2
}
